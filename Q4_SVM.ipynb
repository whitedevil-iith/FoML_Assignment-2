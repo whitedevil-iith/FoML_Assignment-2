{
 "cells": [
  {
   "cell_type": "code",
   "execution_count": 28,
   "metadata": {},
   "outputs": [],
   "source": [
    "from sklearn import svm\n",
    "import numpy as np\n",
    "from sklearn.metrics import accuracy_score\n"
   ]
  },
  {
   "cell_type": "code",
   "execution_count": 3,
   "metadata": {},
   "outputs": [
    {
     "data": {
      "text/html": [
       "<style>#sk-container-id-1 {color: black;}#sk-container-id-1 pre{padding: 0;}#sk-container-id-1 div.sk-toggleable {background-color: white;}#sk-container-id-1 label.sk-toggleable__label {cursor: pointer;display: block;width: 100%;margin-bottom: 0;padding: 0.3em;box-sizing: border-box;text-align: center;}#sk-container-id-1 label.sk-toggleable__label-arrow:before {content: \"▸\";float: left;margin-right: 0.25em;color: #696969;}#sk-container-id-1 label.sk-toggleable__label-arrow:hover:before {color: black;}#sk-container-id-1 div.sk-estimator:hover label.sk-toggleable__label-arrow:before {color: black;}#sk-container-id-1 div.sk-toggleable__content {max-height: 0;max-width: 0;overflow: hidden;text-align: left;background-color: #f0f8ff;}#sk-container-id-1 div.sk-toggleable__content pre {margin: 0.2em;color: black;border-radius: 0.25em;background-color: #f0f8ff;}#sk-container-id-1 input.sk-toggleable__control:checked~div.sk-toggleable__content {max-height: 200px;max-width: 100%;overflow: auto;}#sk-container-id-1 input.sk-toggleable__control:checked~label.sk-toggleable__label-arrow:before {content: \"▾\";}#sk-container-id-1 div.sk-estimator input.sk-toggleable__control:checked~label.sk-toggleable__label {background-color: #d4ebff;}#sk-container-id-1 div.sk-label input.sk-toggleable__control:checked~label.sk-toggleable__label {background-color: #d4ebff;}#sk-container-id-1 input.sk-hidden--visually {border: 0;clip: rect(1px 1px 1px 1px);clip: rect(1px, 1px, 1px, 1px);height: 1px;margin: -1px;overflow: hidden;padding: 0;position: absolute;width: 1px;}#sk-container-id-1 div.sk-estimator {font-family: monospace;background-color: #f0f8ff;border: 1px dotted black;border-radius: 0.25em;box-sizing: border-box;margin-bottom: 0.5em;}#sk-container-id-1 div.sk-estimator:hover {background-color: #d4ebff;}#sk-container-id-1 div.sk-parallel-item::after {content: \"\";width: 100%;border-bottom: 1px solid gray;flex-grow: 1;}#sk-container-id-1 div.sk-label:hover label.sk-toggleable__label {background-color: #d4ebff;}#sk-container-id-1 div.sk-serial::before {content: \"\";position: absolute;border-left: 1px solid gray;box-sizing: border-box;top: 0;bottom: 0;left: 50%;z-index: 0;}#sk-container-id-1 div.sk-serial {display: flex;flex-direction: column;align-items: center;background-color: white;padding-right: 0.2em;padding-left: 0.2em;position: relative;}#sk-container-id-1 div.sk-item {position: relative;z-index: 1;}#sk-container-id-1 div.sk-parallel {display: flex;align-items: stretch;justify-content: center;background-color: white;position: relative;}#sk-container-id-1 div.sk-item::before, #sk-container-id-1 div.sk-parallel-item::before {content: \"\";position: absolute;border-left: 1px solid gray;box-sizing: border-box;top: 0;bottom: 0;left: 50%;z-index: -1;}#sk-container-id-1 div.sk-parallel-item {display: flex;flex-direction: column;z-index: 1;position: relative;background-color: white;}#sk-container-id-1 div.sk-parallel-item:first-child::after {align-self: flex-end;width: 50%;}#sk-container-id-1 div.sk-parallel-item:last-child::after {align-self: flex-start;width: 50%;}#sk-container-id-1 div.sk-parallel-item:only-child::after {width: 0;}#sk-container-id-1 div.sk-dashed-wrapped {border: 1px dashed gray;margin: 0 0.4em 0.5em 0.4em;box-sizing: border-box;padding-bottom: 0.4em;background-color: white;}#sk-container-id-1 div.sk-label label {font-family: monospace;font-weight: bold;display: inline-block;line-height: 1.2em;}#sk-container-id-1 div.sk-label-container {text-align: center;}#sk-container-id-1 div.sk-container {/* jupyter's `normalize.less` sets `[hidden] { display: none; }` but bootstrap.min.css set `[hidden] { display: none !important; }` so we also need the `!important` here to be able to override the default hidden behavior on the sphinx rendered scikit-learn.org. See: https://github.com/scikit-learn/scikit-learn/issues/21755 */display: inline-block !important;position: relative;}#sk-container-id-1 div.sk-text-repr-fallback {display: none;}</style><div id=\"sk-container-id-1\" class=\"sk-top-container\"><div class=\"sk-text-repr-fallback\"><pre>SVC()</pre><b>In a Jupyter environment, please rerun this cell to show the HTML representation or trust the notebook. <br />On GitHub, the HTML representation is unable to render, please try loading this page with nbviewer.org.</b></div><div class=\"sk-container\" hidden><div class=\"sk-item\"><div class=\"sk-estimator sk-toggleable\"><input class=\"sk-toggleable__control sk-hidden--visually\" id=\"sk-estimator-id-1\" type=\"checkbox\" checked><label for=\"sk-estimator-id-1\" class=\"sk-toggleable__label sk-toggleable__label-arrow\">SVC</label><div class=\"sk-toggleable__content\"><pre>SVC()</pre></div></div></div></div></div>"
      ],
      "text/plain": [
       "SVC()"
      ]
     },
     "execution_count": 3,
     "metadata": {},
     "output_type": "execute_result"
    }
   ],
   "source": [
    "X = [[0, 0], [1, 1]]\n",
    "y = [0, 1]\n",
    "clf = svm.SVC()\n",
    "clf.fit(X, y)"
   ]
  },
  {
   "cell_type": "code",
   "execution_count": 4,
   "metadata": {},
   "outputs": [
    {
     "data": {
      "text/plain": [
       "array([1])"
      ]
     },
     "execution_count": 4,
     "metadata": {},
     "output_type": "execute_result"
    }
   ],
   "source": [
    "clf.predict([[2., 2.]])"
   ]
  },
  {
   "cell_type": "code",
   "execution_count": 22,
   "metadata": {},
   "outputs": [
    {
     "data": {
      "text/plain": [
       "array([1, 1], dtype=int32)"
      ]
     },
     "execution_count": 22,
     "metadata": {},
     "output_type": "execute_result"
    }
   ],
   "source": [
    "# get support vectors\n",
    "clf.support_vectors_\n",
    "\n",
    "# get indices of support vectors\n",
    "clf.support_\n",
    "\n",
    "# get number of support vectors for each class\n",
    "clf.n_support_"
   ]
  },
  {
   "cell_type": "code",
   "execution_count": 39,
   "metadata": {},
   "outputs": [],
   "source": [
    "# Function to read data from the file\n",
    "def read_data(filename):\n",
    "    # Load data from the file\n",
    "    data = np.loadtxt(filename)\n",
    "    return data\n",
    "\n",
    "trainFilename = 'features.train'\n",
    "testFilename = 'features.test'\n",
    "trainingFeatures = read_data(trainFilename)\n",
    "testingFeatures = read_data(testFilename)\n",
    "\n",
    "# Filter data for digits 1 and 5\n",
    "train_data = trainingFeatures[(trainingFeatures[:, 0] == 1) | (trainingFeatures[:, 0] == 5)]\n",
    "test_data = testingFeatures[(testingFeatures[:, 0] == 1) | (testingFeatures[:, 0] == 5)]\n",
    "\n",
    "\n",
    "trainingInput = train_data[:, 1:3]\n",
    "trainingOutput = train_data[:, 0:1]\n",
    "testingInput = test_data[:, 1:3]\n",
    "testingOutput = test_data[:, 0:1]"
   ]
  },
  {
   "cell_type": "code",
   "execution_count": 34,
   "metadata": {},
   "outputs": [
    {
     "name": "stdout",
     "output_type": "stream",
     "text": [
      "Test Accuracy: 0.9787735849056604\n",
      "Number of Support Vectors: 28\n"
     ]
    },
    {
     "name": "stderr",
     "output_type": "stream",
     "text": [
      "/home/yaswanth/.local/lib/python3.8/site-packages/sklearn/utils/validation.py:1183: DataConversionWarning: A column-vector y was passed when a 1d array was expected. Please change the shape of y to (n_samples, ), for example using ravel().\n",
      "  y = column_or_1d(y, warn=True)\n"
     ]
    }
   ],
   "source": [
    "linear_SVM_Model = svm.SVC(kernel='linear')\n",
    "linear_SVM_Model.fit(trainingInput, trainingOutput)\n",
    "# print(f\"support vectors : {clf.support_vectors_}, indices of support vectors : {clf.support_}, support vectors of each class : {clf.n_support_}\")\n",
    "\n",
    "# Make predictions\n",
    "predictions = linear_SVM_Model.predict(testingInput)\n",
    "\n",
    "# Calculate accuracy\n",
    "accuracy = accuracy_score(testingOutput, predictions)\n",
    "support_vectors = len(linear_SVM_Model.support_vectors_)\n",
    "\n",
    "print(f\"Test Accuracy: {accuracy}\")\n",
    "print(f\"Number of Support Vectors: {support_vectors}\")"
   ]
  },
  {
   "cell_type": "code",
   "execution_count": 45,
   "metadata": {},
   "outputs": [
    {
     "name": "stdout",
     "output_type": "stream",
     "text": [
      "Acccuracy : 0.9811320754716981,\t Support Vector (2) : [[ 0.14204297 -1.8194375 ]\n",
      " [ 0.21798242 -3.359625  ]]\n",
      "\n",
      "\n",
      "Acccuracy : 0.9811320754716981,\t Support Vector (4) : [[ 0.14204297 -1.8194375 ]\n",
      " [ 0.19665234 -1.8435    ]\n",
      " [ 0.21798242 -3.359625  ]\n",
      " [ 0.16456055 -2.7685625 ]]\n",
      "\n",
      "\n",
      "Acccuracy : 0.9811320754716981,\t Support Vector (8) : [[ 0.14204297 -1.8194375 ]\n",
      " [ 0.19665234 -1.8435    ]\n",
      " [ 0.23962695 -3.3054375 ]\n",
      " [ 0.24764258 -2.31925   ]\n",
      " [ 0.21798242 -3.359625  ]\n",
      " [ 0.16456055 -2.7685625 ]\n",
      " [ 0.14020508 -2.8765    ]\n",
      " [ 0.21938672 -3.08825   ]]\n",
      "\n",
      "\n",
      "Acccuracy : 0.9811320754716981,\t Support Vector (14) : [[ 0.23962695 -3.3054375 ]\n",
      " [ 0.24764258 -2.31925   ]\n",
      " [ 0.16217188 -2.327625  ]\n",
      " [ 0.17714062 -2.3680625 ]\n",
      " [ 0.22025    -3.0306875 ]\n",
      " [ 0.18467578 -2.040125  ]\n",
      " [ 0.18350195 -2.1923125 ]\n",
      " [ 0.16456055 -2.7685625 ]\n",
      " [ 0.14020508 -2.8765    ]\n",
      " [ 0.2040625  -3.052875  ]\n",
      " [ 0.15241797 -2.6614375 ]\n",
      " [ 0.15593555 -3.0060625 ]\n",
      " [ 0.18180469 -3.0364375 ]\n",
      " [ 0.15175    -2.97025   ]]\n",
      "\n",
      "\n"
     ]
    },
    {
     "name": "stderr",
     "output_type": "stream",
     "text": [
      "/home/yaswanth/.local/lib/python3.8/site-packages/sklearn/utils/validation.py:1183: DataConversionWarning: A column-vector y was passed when a 1d array was expected. Please change the shape of y to (n_samples, ), for example using ravel().\n",
      "  y = column_or_1d(y, warn=True)\n",
      "/home/yaswanth/.local/lib/python3.8/site-packages/sklearn/utils/validation.py:1183: DataConversionWarning: A column-vector y was passed when a 1d array was expected. Please change the shape of y to (n_samples, ), for example using ravel().\n",
      "  y = column_or_1d(y, warn=True)\n",
      "/home/yaswanth/.local/lib/python3.8/site-packages/sklearn/utils/validation.py:1183: DataConversionWarning: A column-vector y was passed when a 1d array was expected. Please change the shape of y to (n_samples, ), for example using ravel().\n",
      "  y = column_or_1d(y, warn=True)\n",
      "/home/yaswanth/.local/lib/python3.8/site-packages/sklearn/utils/validation.py:1183: DataConversionWarning: A column-vector y was passed when a 1d array was expected. Please change the shape of y to (n_samples, ), for example using ravel().\n",
      "  y = column_or_1d(y, warn=True)\n"
     ]
    },
    {
     "data": {
      "text/plain": [
       "[0.9811320754716981,\n",
       " 0.9811320754716981,\n",
       " 0.9811320754716981,\n",
       " 0.9811320754716981]"
      ]
     },
     "execution_count": 45,
     "metadata": {},
     "output_type": "execute_result"
    }
   ],
   "source": [
    "testSizes = [50, 100, 200, 800]\n",
    "accuracies = []\n",
    "for size in testSizes:\n",
    "    model = svm.SVC(kernel='linear')\n",
    "    model.fit(trainingInput[:size], trainingOutput[:size])\n",
    "    predictions = model.predict(testingInput)\n",
    "    accuracy = accuracy_score(predictions, testingOutput)\n",
    "    accuracies.append(accuracy)\n",
    "    print(f\"Acccuracy : {accuracy},\\t Support Vector ({len(model.support_vectors_)}) : {model.support_vectors_}\\n\\n\")\n",
    "\n",
    "accuracies"
   ]
  },
  {
   "cell_type": "code",
   "execution_count": 52,
   "metadata": {},
   "outputs": [
    {
     "name": "stderr",
     "output_type": "stream",
     "text": [
      "/home/yaswanth/.local/lib/python3.8/site-packages/sklearn/utils/validation.py:1183: DataConversionWarning: A column-vector y was passed when a 1d array was expected. Please change the shape of y to (n_samples, ), for example using ravel().\n",
      "  y = column_or_1d(y, warn=True)\n",
      "/home/yaswanth/.local/lib/python3.8/site-packages/sklearn/utils/validation.py:1183: DataConversionWarning: A column-vector y was passed when a 1d array was expected. Please change the shape of y to (n_samples, ), for example using ravel().\n",
      "  y = column_or_1d(y, warn=True)\n",
      "/home/yaswanth/.local/lib/python3.8/site-packages/sklearn/utils/validation.py:1183: DataConversionWarning: A column-vector y was passed when a 1d array was expected. Please change the shape of y to (n_samples, ), for example using ravel().\n",
      "  y = column_or_1d(y, warn=True)\n",
      "/home/yaswanth/.local/lib/python3.8/site-packages/sklearn/utils/validation.py:1183: DataConversionWarning: A column-vector y was passed when a 1d array was expected. Please change the shape of y to (n_samples, ), for example using ravel().\n",
      "  y = column_or_1d(y, warn=True)\n",
      "/home/yaswanth/.local/lib/python3.8/site-packages/sklearn/utils/validation.py:1183: DataConversionWarning: A column-vector y was passed when a 1d array was expected. Please change the shape of y to (n_samples, ), for example using ravel().\n",
      "  y = column_or_1d(y, warn=True)\n"
     ]
    },
    {
     "name": "stdout",
     "output_type": "stream",
     "text": [
      "For C=0.0001 and Q=2 \t: Training Eror = 0.34081 and Testing Error = 0.34670\n",
      "For C=0.001 and Q=2 \t: Training Eror = 0.02498 and Testing Error = 0.03538\n",
      "For C=0.01 and Q=2 \t: Training Eror = 0.00769 and Testing Error = 0.02123\n",
      "For C=1 and Q=2 \t: Training Eror = 0.00448 and Testing Error = 0.01887\n",
      "For C=0.0001 and Q=5 \t: Training Eror = 0.05189 and Testing Error = 0.07547\n",
      "For C=0.001 and Q=5 \t: Training Eror = 0.02114 and Testing Error = 0.03066\n",
      "For C=0.01 and Q=5 \t: Training Eror = 0.00833 and Testing Error = 0.02123\n",
      "For C=1 and Q=5 \t: Training Eror = 0.00448 and Testing Error = 0.01651\n"
     ]
    },
    {
     "name": "stderr",
     "output_type": "stream",
     "text": [
      "/home/yaswanth/.local/lib/python3.8/site-packages/sklearn/utils/validation.py:1183: DataConversionWarning: A column-vector y was passed when a 1d array was expected. Please change the shape of y to (n_samples, ), for example using ravel().\n",
      "  y = column_or_1d(y, warn=True)\n",
      "/home/yaswanth/.local/lib/python3.8/site-packages/sklearn/utils/validation.py:1183: DataConversionWarning: A column-vector y was passed when a 1d array was expected. Please change the shape of y to (n_samples, ), for example using ravel().\n",
      "  y = column_or_1d(y, warn=True)\n",
      "/home/yaswanth/.local/lib/python3.8/site-packages/sklearn/utils/validation.py:1183: DataConversionWarning: A column-vector y was passed when a 1d array was expected. Please change the shape of y to (n_samples, ), for example using ravel().\n",
      "  y = column_or_1d(y, warn=True)\n"
     ]
    }
   ],
   "source": [
    "degrees = [2, 5]\n",
    "Cs = [0.0001, 0.001, 0.01, 1]\n",
    "\n",
    "for Q in degrees:\n",
    "    for C in Cs:\n",
    "        poly_SVM_Model = svm.SVC(C=C, kernel='poly', degree=Q)\n",
    "        poly_SVM_Model.fit(trainingInput, trainingOutput)\n",
    "        trainingAccuracy = accuracy_score(poly_SVM_Model.predict(trainingInput), trainingOutput)\n",
    "        predictions = poly_SVM_Model.predict(testingInput)\n",
    "        testingAccuracy = accuracy_score(predictions, testingOutput)\n",
    "        print(f\"For C={C} and Q={Q} \\t: Training Eror = {1-trainingAccuracy:.5f} and Testing Error = {1-testingAccuracy:.5f}\")"
   ]
  },
  {
   "cell_type": "code",
   "execution_count": 53,
   "metadata": {},
   "outputs": [
    {
     "name": "stderr",
     "output_type": "stream",
     "text": [
      "/home/yaswanth/.local/lib/python3.8/site-packages/sklearn/utils/validation.py:1183: DataConversionWarning: A column-vector y was passed when a 1d array was expected. Please change the shape of y to (n_samples, ), for example using ravel().\n",
      "  y = column_or_1d(y, warn=True)\n",
      "/home/yaswanth/.local/lib/python3.8/site-packages/sklearn/utils/validation.py:1183: DataConversionWarning: A column-vector y was passed when a 1d array was expected. Please change the shape of y to (n_samples, ), for example using ravel().\n",
      "  y = column_or_1d(y, warn=True)\n",
      "/home/yaswanth/.local/lib/python3.8/site-packages/sklearn/utils/validation.py:1183: DataConversionWarning: A column-vector y was passed when a 1d array was expected. Please change the shape of y to (n_samples, ), for example using ravel().\n",
      "  y = column_or_1d(y, warn=True)\n",
      "/home/yaswanth/.local/lib/python3.8/site-packages/sklearn/utils/validation.py:1183: DataConversionWarning: A column-vector y was passed when a 1d array was expected. Please change the shape of y to (n_samples, ), for example using ravel().\n",
      "  y = column_or_1d(y, warn=True)\n",
      "/home/yaswanth/.local/lib/python3.8/site-packages/sklearn/utils/validation.py:1183: DataConversionWarning: A column-vector y was passed when a 1d array was expected. Please change the shape of y to (n_samples, ), for example using ravel().\n",
      "  y = column_or_1d(y, warn=True)\n"
     ]
    },
    {
     "name": "stdout",
     "output_type": "stream",
     "text": [
      "For C=0.01 and Q=5 \t: Training Eror = 0.00512 and Testing Error = 0.01651\n",
      "For C=1 and Q=5 \t: Training Eror = 0.00448 and Testing Error = 0.02123\n",
      "For C=100 and Q=5 \t: Training Eror = 0.00320 and Testing Error = 0.01887\n",
      "For C=10000.0 and Q=5 \t: Training Eror = 0.00256 and Testing Error = 0.01887\n",
      "For C=1000000.0 and Q=5 \t: Training Eror = 0.00256 and Testing Error = 0.02358\n"
     ]
    }
   ],
   "source": [
    "Cs = [0.01, 1, 100, 1e4, 1e6]\n",
    "for C in Cs:\n",
    "    radial_SVM_Model = svm.SVC(C=C, kernel='rbf')\n",
    "    radial_SVM_Model.fit(trainingInput, trainingOutput)\n",
    "    trainingAccuracy = accuracy_score(radial_SVM_Model.predict(trainingInput), trainingOutput)\n",
    "    predictions = radial_SVM_Model.predict(testingInput)\n",
    "    testingAccuracy = accuracy_score(predictions, testingOutput)\n",
    "    print(f\"For C={C} and Q={Q} \\t: Training Eror = {1-trainingAccuracy:.5f} and Testing Error = {1-testingAccuracy:.5f}\")\n",
    "\n"
   ]
  }
 ],
 "metadata": {
  "kernelspec": {
   "display_name": "Python 3",
   "language": "python",
   "name": "python3"
  },
  "language_info": {
   "codemirror_mode": {
    "name": "ipython",
    "version": 3
   },
   "file_extension": ".py",
   "mimetype": "text/x-python",
   "name": "python",
   "nbconvert_exporter": "python",
   "pygments_lexer": "ipython3",
   "version": "3.8.10"
  }
 },
 "nbformat": 4,
 "nbformat_minor": 2
}
